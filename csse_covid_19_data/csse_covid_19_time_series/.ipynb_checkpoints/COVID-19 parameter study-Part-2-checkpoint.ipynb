{
 "cells": [
  {
   "cell_type": "code",
   "execution_count": 238,
   "metadata": {},
   "outputs": [],
   "source": [
    "import pandas as pd\n",
    "import numpy as np\n",
    "import scipy as sp\n",
    "from matplotlib import pyplot as plt\n",
    "import seaborn as sns\n",
    "from scipy import stats\n",
    "from scipy.optimize import minimize\n",
    "from scipy.optimize import curve_fit\n",
    "from scipy.optimize import differential_evolution\n",
    "import warnings\n",
    "from IPython.display import Image\n",
    "from sklearn.preprocessing import MinMaxScaler\n",
    "from sklearn.cluster import DBSCAN\n",
    "from scipy import integrate, optimize\n",
    "from sklearn.preprocessing import StandardScaler\n",
    "from sklearn.model_selection import train_test_split\n",
    "import datetime as dt\n",
    "import matplotlib.dates as mdates\n"
   ]
  },
  {
   "cell_type": "code",
   "execution_count": 239,
   "metadata": {},
   "outputs": [
    {
     "data": {
      "text/html": [
       "<script>\n",
       "  function code_toggle() {\n",
       "    if (code_shown){\n",
       "      $('div.input').hide('500');\n",
       "      $('#toggleButton').val('Show Code')\n",
       "    } else {\n",
       "      $('div.input').show('500');\n",
       "      $('#toggleButton').val('Hide Code')\n",
       "    }\n",
       "    code_shown = !code_shown\n",
       "  }\n",
       "  $( document ).ready(function(){\n",
       "    code_shown=false;\n",
       "    $('div.input').hide()\n",
       "  });\n",
       "</script>\n",
       "<form action=\"javascript:code_toggle()\"><input type=\"submit\" id=\"toggleButton\" value=\"Show Code\"></form>"
      ],
      "text/plain": [
       "<IPython.core.display.HTML object>"
      ]
     },
     "execution_count": 239,
     "metadata": {},
     "output_type": "execute_result"
    }
   ],
   "source": [
    "from IPython.display import HTML\n",
    "HTML('''<script>\n",
    "  function code_toggle() {\n",
    "    if (code_shown){\n",
    "      $('div.input').hide('500');\n",
    "      $('#toggleButton').val('Show Code')\n",
    "    } else {\n",
    "      $('div.input').show('500');\n",
    "      $('#toggleButton').val('Hide Code')\n",
    "    }\n",
    "    code_shown = !code_shown\n",
    "  }\n",
    "  $( document ).ready(function(){\n",
    "    code_shown=false;\n",
    "    $('div.input').hide()\n",
    "  });\n",
    "</script>\n",
    "<form action=\"javascript:code_toggle()\"><input type=\"submit\" id=\"toggleButton\" value=\"Show Code\"></form>''')"
   ]
  },
  {
   "cell_type": "markdown",
   "metadata": {},
   "source": [
    "Reading the dataset\n"
   ]
  },
  {
   "cell_type": "markdown",
   "metadata": {},
   "source": [
    "Datasets 'https://github.com/CSSEGISandData/COVID-19/tree/master/csse_covid_19_data'"
   ]
  },
  {
   "cell_type": "code",
   "execution_count": 3,
   "metadata": {},
   "outputs": [],
   "source": [
    "#DATASET CONTAINING INFORMATION OF POPULATION DENSITY , AVG. TEMPERATURE , RELATIVE HUMIDITY\n",
    "geo_data = pd.read_csv('place_list_2k.csv', encoding = \"ISO-8859-1\")\n",
    "geo_data = geo_data.set_index(['Unnamed: 0'])\n",
    "geo_data_train = geo_data.iloc[:89,:]\n",
    "geo_data_test = geo_data.iloc[89:]\n"
   ]
  },
  {
   "cell_type": "code",
   "execution_count": 4,
   "metadata": {},
   "outputs": [],
   "source": [
    "#READING COVID19 confirmed, death and recovery dataset \n",
    "covid_cnf_ts = pd.read_csv('time_series_covid19_confirmed_global.csv')\n",
    "covid_de_ts = pd.read_csv('time_series_covid19_deaths_global.csv')\n",
    "covid_re_ts = pd.read_csv('time_series_covid19_recovered_global.csv')"
   ]
  },
  {
   "cell_type": "code",
   "execution_count": 5,
   "metadata": {},
   "outputs": [],
   "source": [
    "plt.style.use('fivethirtyeight')"
   ]
  },
  {
   "cell_type": "code",
   "execution_count": 6,
   "metadata": {
    "scrolled": false
   },
   "outputs": [],
   "source": [
    "date_columns = list(covid_cnf_ts.iloc[:,4:].columns)\n",
    "covid_cnf_ts = covid_cnf_ts[covid_cnf_ts['Country/Region'] != 'Cruise Ship']\n",
    "covid_de_ts = covid_de_ts[covid_de_ts['Country/Region'] != 'Cruise Ship']\n",
    "covid_re_ts = covid_re_ts[covid_re_ts['Country/Region'] != 'Cruise Ship']\n",
    "\n",
    "# covid_cnf_ts_grouped = covid_cnf_ts.groupby('Country/Region')[date_columns].sum()\n",
    "# covid_de_ts_grouped = covid_de_ts.groupby('Country/Region')[date_columns].sum()\n",
    "# covid_re_ts_grouped = covid_re_ts.groupby('Country/Region')[date_columns].sum()"
   ]
  },
  {
   "cell_type": "markdown",
   "metadata": {},
   "source": [
    "Selecting places/regions where confirmed cases till date is greater than 100"
   ]
  },
  {
   "cell_type": "code",
   "execution_count": 7,
   "metadata": {},
   "outputs": [],
   "source": [
    "covid_details = pd.concat([covid_cnf_ts.iloc[:,-1],covid_re_ts.iloc[:,-1], covid_de_ts.iloc[:,-1]], axis = 1 )\n",
    "covid_details.columns =['Confirmed', 'Recovery', 'Death']\n",
    "covid_details = covid_details[(covid_details['Confirmed'] > 100) & (covid_details['Recovery'] > 10) & (covid_details['Death']>0)]\n"
   ]
  },
  {
   "cell_type": "code",
   "execution_count": 8,
   "metadata": {},
   "outputs": [
    {
     "name": "stderr",
     "output_type": "stream",
     "text": [
      "/anaconda3/lib/python3.6/site-packages/ipykernel/__main__.py:6: DeprecationWarning: \n",
      ".ix is deprecated. Please use\n",
      ".loc for label based indexing or\n",
      ".iloc for positional indexing\n",
      "\n",
      "See the documentation here:\n",
      "http://pandas.pydata.org/pandas-docs/stable/indexing.html#ix-indexer-is-deprecated\n",
      "/anaconda3/lib/python3.6/site-packages/ipykernel/__main__.py:13: DeprecationWarning: \n",
      ".ix is deprecated. Please use\n",
      ".loc for label based indexing or\n",
      ".iloc for positional indexing\n",
      "\n",
      "See the documentation here:\n",
      "http://pandas.pydata.org/pandas-docs/stable/indexing.html#ix-indexer-is-deprecated\n",
      "/anaconda3/lib/python3.6/site-packages/ipykernel/__main__.py:20: DeprecationWarning: \n",
      ".ix is deprecated. Please use\n",
      ".loc for label based indexing or\n",
      ".iloc for positional indexing\n",
      "\n",
      "See the documentation here:\n",
      "http://pandas.pydata.org/pandas-docs/stable/indexing.html#ix-indexer-is-deprecated\n"
     ]
    }
   ],
   "source": [
    "covid_cnf_aggregate = covid_cnf_ts.iloc[:,4:].T.sum()\n",
    "covid_cnf_ts['Total'] = covid_cnf_aggregate\n",
    "sort_cnf = covid_cnf_ts.sort_values(by = ['Total'], ascending = False)\n",
    "sort_cnf\n",
    "affected_countries_confirmed = covid_cnf_ts\n",
    "affected_countries_confirmed = affected_countries_confirmed.ix[sort_cnf.index]\n",
    "affected_countries_confirmed = affected_countries_confirmed[affected_countries_confirmed.iloc[:,-2]>100]\n",
    "\n",
    "covid_de_aggregate = covid_de_ts.iloc[:,4:].T.sum()\n",
    "covid_de_ts['Total'] = covid_de_aggregate\n",
    "sort_de = covid_de_ts.sort_values(by = ['Total'], ascending = False)\n",
    "affected_countries_death = covid_de_ts\n",
    "affected_countries_death = affected_countries_death.ix[sort_de.index]\n",
    "affected_countries_death = covid_de_ts[covid_de_ts.iloc[:,-2]> 1]\n",
    "\n",
    "covid_re_aggregate = covid_re_ts.iloc[:,4:].T.sum()\n",
    "covid_re_ts['Total'] = covid_re_aggregate\n",
    "sort_re = covid_re_ts.sort_values(by = ['Total'], ascending = False)\n",
    "affected_countries_recovery = covid_re_ts\n",
    "affected_countries_recovery = affected_countries_recovery.ix[sort_re.index]\n",
    "affected_countries_recovery = covid_re_ts[covid_re_ts.iloc[:,-2] > 10]\n"
   ]
  },
  {
   "cell_type": "markdown",
   "metadata": {},
   "source": [
    "We are not considering dataset of China because of large discreapancies in dataset. We are not considering India, as it is the country of our interest (to avoid overfitting)."
   ]
  },
  {
   "cell_type": "code",
   "execution_count": 9,
   "metadata": {},
   "outputs": [],
   "source": [
    "confirmed_cases_df = affected_countries_confirmed[(affected_countries_confirmed['Country/Region'] != 'China') &  \n",
    "                                                  (affected_countries_confirmed['Country/Region']!= 'India')]\n",
    "country_details = confirmed_cases_df.iloc[:,:4]\n",
    "# country_details.to_csv('place_list_1.csv')"
   ]
  },
  {
   "cell_type": "markdown",
   "metadata": {},
   "source": [
    "Assumption - 1 : Susceptible population is 100 times more than total number of infected till date."
   ]
  },
  {
   "cell_type": "code",
   "execution_count": 10,
   "metadata": {},
   "outputs": [
    {
     "name": "stderr",
     "output_type": "stream",
     "text": [
      "/anaconda3/lib/python3.6/site-packages/ipykernel/__main__.py:1: SettingWithCopyWarning: \n",
      "A value is trying to be set on a copy of a slice from a DataFrame.\n",
      "Try using .loc[row_indexer,col_indexer] = value instead\n",
      "\n",
      "See the caveats in the documentation: http://pandas.pydata.org/pandas-docs/stable/indexing.html#indexing-view-versus-copy\n",
      "  if __name__ == '__main__':\n"
     ]
    }
   ],
   "source": [
    "confirmed_cases_df['Total'] = 100*confirmed_cases_df.iloc[:,-2]\n"
   ]
  },
  {
   "cell_type": "code",
   "execution_count": 11,
   "metadata": {},
   "outputs": [],
   "source": [
    "#SIR MODEL \n",
    "def SIR_model(SIR_info, time, beta, gamma):\n",
    "#     print(SIR_info)\n",
    "    S = SIR_info[0]\n",
    "    I= SIR_info[1]\n",
    "    R = SIR_info[2]\n",
    "    \n",
    "    St = - beta*S*I/population\n",
    "    Rt = gamma*I\n",
    "    It = -(St+Rt)\n",
    "    return St, It, Rt\n",
    "\n",
    "def ode_solution(time, beta, gamma):\n",
    "    return integrate.odeint(SIR_model, (initial_susceptible, initial_infected, initial_recovered),\n",
    "                            time,args=(beta, gamma))[:,1]\n",
    "\n",
    "\n",
    "#Early epidemic growth model Chowell, 2016\n",
    "\n",
    "def chowell_model(C, time, r,p):\n",
    "    dC_Dt = r*(C)**p\n",
    "    \n",
    "    return dC_Dt\n",
    "\n",
    "def integrate_chowell_model(time, r, p):\n",
    "    return integrate.odeint(chowell_model, initial_infected,\n",
    "                            time,args=(r, p))\n",
    "\n",
    "def chowell_model_solution(time, r,p):\n",
    "#     print('r',r,'p',p)\n",
    "    m = 1/(1-p)\n",
    "    A = initial_infected**(1/m)\n",
    "    C = ((r/m)*time + A)**m\n",
    "    return C\n",
    "\n",
    "\n",
    "'-------------------------'\n",
    "\n",
    "def covid_likelihood(params, *data):\n",
    "    '''Constructs a likelihood based on the data observed'''\n",
    "    \n",
    "    k = params[0]\n",
    "    b= params[1]\n",
    "    sd = params[2]\n",
    "    y_dat = data\n",
    "    f = 1/(1+np.exp(-k*(x_dat-b)))\n",
    "#     print(stats.norm.logpdf(y_dat, f, sd))\n",
    "    likelihood = - np.sum(stats.norm.logpdf(y_dat/y_dat[-1], f, sd))\n",
    "    return likelihood\n",
    "\n",
    "def sigmoid(x,a,b,c):\n",
    "    '''Non scaled sigmoid function to model the data'''\n",
    "    c = 1\n",
    "    f = c/(1+np.exp(-(x-b)/a))\n",
    "    return f\n",
    "\n",
    "def sigmoid_1(x,a,b):\n",
    "    '''Scaled sigmoid function to model the normalized data'''\n",
    "    f = 1/(1+np.exp(-(x-b)/a))\n",
    "    return f\n",
    "\n",
    "def get_param_estimate(function, initparams):\n",
    "    estimates = minimize(covid_likelihood, [1,1,1], method = 'Nelder-Mead')\n",
    "    return estimates.x\n",
    "\n",
    "def func_exp(x, a,b, c):\n",
    "    c = 0\n",
    "    return a * np.exp(b * x) + c\n",
    "\n",
    "def parameter_estimations(x, y, scale_flag):\n",
    "    '''Provides functionality for parameter estimations \n",
    "    with or without scaling (provided by scale_flag)'''\n",
    "    if scale_flag:\n",
    "        y_scale = y/y[-1]\n",
    "        p0 = [2, np.argmax(y)]\n",
    "        popt, pcov = curve_fit(sigmoid_1, x, y_scale, p0, method='dogbox',maxfev=100000)\n",
    "        parameter = [popt[0], popt[1]]\n",
    "    else:\n",
    "        p0 = [2, np.argmax(y_dat), np.max(y)]\n",
    "        popt, pcov = curve_fit(func_exp, x, y, p0 , maxfev = 10000)\n",
    "        parameter = [popt[0], popt[1], popt[2]]\n",
    "    return parameter"
   ]
  },
  {
   "cell_type": "markdown",
   "metadata": {},
   "source": [
    "Identifying time point first infection case for each place "
   ]
  },
  {
   "cell_type": "code",
   "execution_count": 12,
   "metadata": {
    "scrolled": true
   },
   "outputs": [],
   "source": [
    "first_non_zero_location = confirmed_cases_df.iloc[:,4:-1].T.ne(0).idxmax()\n",
    "column_info = pd.Series(confirmed_cases_df.columns)\n",
    "#storing the index of the dates \n",
    "index_dict = {}\n",
    "for i in column_info:\n",
    "    loc = column_info[column_info == i].index.tolist()\n",
    "    index_dict[i] = loc"
   ]
  },
  {
   "cell_type": "code",
   "execution_count": 13,
   "metadata": {},
   "outputs": [],
   "source": [
    "\n",
    "chowell_model = False\n",
    "parameter_list = []\n",
    "for place in range(len(confirmed_cases_df)):\n",
    "    population = confirmed_cases_df.iloc[place, -1]\n",
    "    first_non_zero_date = confirmed_cases_df.iloc[place,4:-1].T.ne(0).idxmax()\n",
    "    non_zero_index = index_dict[first_non_zero_date][0]\n",
    "    initial_infected = confirmed_cases_df.iloc[place, non_zero_index]\n",
    "#     print('initial_infected',initial_infected, non_zero_index)\n",
    "    initial_susceptible = population - initial_infected\n",
    "    initial_recovered = 0 \n",
    "    xdata = np.arange(0,len(confirmed_cases_df.iloc[place,non_zero_index:-1]))\n",
    "#     print(xdata)\n",
    "    ydata = confirmed_cases_df.iloc[place,non_zero_index:-1]\n",
    "#     print(ydata.values.tolist())\n",
    "    if chowell_model:\n",
    "        param_bounds=(0,[10,1])\n",
    "        popt, pcov = optimize.curve_fit(chowell_model_solution, xdata,\n",
    "                                        ydata.values.tolist(),bounds= param_bounds,method='dogbox',maxfev=100000)\n",
    "    else:\n",
    "        param_bounds=(0,[np.inf,np.inf])\n",
    "        popt, pcov = optimize.curve_fit(ode_solution, xdata,\n",
    "                                        ydata.values.tolist(),bounds= param_bounds,method='dogbox',maxfev=1000)\n",
    "    parameter_list.append(popt)\n",
    "    \n",
    "    "
   ]
  },
  {
   "cell_type": "code",
   "execution_count": 14,
   "metadata": {},
   "outputs": [],
   "source": [
    "beta = [i[0] for i in parameter_list]\n",
    "gamma = [i[1] for i in parameter_list]"
   ]
  },
  {
   "cell_type": "code",
   "execution_count": 15,
   "metadata": {
    "scrolled": true
   },
   "outputs": [
    {
     "name": "stderr",
     "output_type": "stream",
     "text": [
      "/anaconda3/lib/python3.6/site-packages/ipykernel/__main__.py:1: SettingWithCopyWarning: \n",
      "A value is trying to be set on a copy of a slice from a DataFrame.\n",
      "Try using .loc[row_indexer,col_indexer] = value instead\n",
      "\n",
      "See the caveats in the documentation: http://pandas.pydata.org/pandas-docs/stable/indexing.html#indexing-view-versus-copy\n",
      "  if __name__ == '__main__':\n",
      "/anaconda3/lib/python3.6/site-packages/ipykernel/__main__.py:2: SettingWithCopyWarning: \n",
      "A value is trying to be set on a copy of a slice from a DataFrame.\n",
      "Try using .loc[row_indexer,col_indexer] = value instead\n",
      "\n",
      "See the caveats in the documentation: http://pandas.pydata.org/pandas-docs/stable/indexing.html#indexing-view-versus-copy\n",
      "  from ipykernel import kernelapp as app\n",
      "/anaconda3/lib/python3.6/site-packages/ipykernel/__main__.py:3: SettingWithCopyWarning: \n",
      "A value is trying to be set on a copy of a slice from a DataFrame.\n",
      "Try using .loc[row_indexer,col_indexer] = value instead\n",
      "\n",
      "See the caveats in the documentation: http://pandas.pydata.org/pandas-docs/stable/indexing.html#indexing-view-versus-copy\n",
      "  app.launch_new_instance()\n"
     ]
    }
   ],
   "source": [
    "confirmed_cases_df['beta'] = beta\n",
    "confirmed_cases_df['gamma'] = gamma\n",
    "confirmed_cases_df['pop_density'] = geo_data_train['Pop Density']"
   ]
  },
  {
   "cell_type": "code",
   "execution_count": 16,
   "metadata": {},
   "outputs": [
    {
     "data": {
      "text/plain": [
       "Index(['Province/State', 'Country/Region', 'Lat', 'Long', 'Pop', 'Pop Density',\n",
       "       'Avg Temp Feb (in _)', 'Avg Temp Mar (in _)',\n",
       "       'Relative Humidity Feb (in %)', 'Relative Humidity Mar (in %)'],\n",
       "      dtype='object')"
      ]
     },
     "execution_count": 16,
     "metadata": {},
     "output_type": "execute_result"
    }
   ],
   "source": [
    "geo_data_train.columns"
   ]
  },
  {
   "cell_type": "code",
   "execution_count": 17,
   "metadata": {},
   "outputs": [
    {
     "name": "stderr",
     "output_type": "stream",
     "text": [
      "/anaconda3/lib/python3.6/site-packages/ipykernel/__main__.py:1: SettingWithCopyWarning: \n",
      "A value is trying to be set on a copy of a slice from a DataFrame.\n",
      "Try using .loc[row_indexer,col_indexer] = value instead\n",
      "\n",
      "See the caveats in the documentation: http://pandas.pydata.org/pandas-docs/stable/indexing.html#indexing-view-versus-copy\n",
      "  if __name__ == '__main__':\n",
      "/anaconda3/lib/python3.6/site-packages/ipykernel/__main__.py:2: SettingWithCopyWarning: \n",
      "A value is trying to be set on a copy of a slice from a DataFrame.\n",
      "Try using .loc[row_indexer,col_indexer] = value instead\n",
      "\n",
      "See the caveats in the documentation: http://pandas.pydata.org/pandas-docs/stable/indexing.html#indexing-view-versus-copy\n",
      "  from ipykernel import kernelapp as app\n"
     ]
    }
   ],
   "source": [
    "confirmed_cases_df['average_tem'] = (geo_data_train['Avg Temp Mar (in _)'] + geo_data_train['Avg Temp Feb (in _)'])/2\n",
    "confirmed_cases_df['RH'] = (geo_data_train['Relative Humidity Feb (in %)'] + geo_data_train['Relative Humidity Mar (in %)'])/2"
   ]
  },
  {
   "cell_type": "code",
   "execution_count": 18,
   "metadata": {},
   "outputs": [],
   "source": [
    "confirmed_cases_df_1 = confirmed_cases_df[confirmed_cases_df.iloc[:,-6]>100]"
   ]
  },
  {
   "cell_type": "code",
   "execution_count": 19,
   "metadata": {},
   "outputs": [],
   "source": [
    "confirmed_cases_df_1 = confirmed_cases_df_1[confirmed_cases_df_1['average_tem'].notnull()]"
   ]
  },
  {
   "cell_type": "code",
   "execution_count": 20,
   "metadata": {},
   "outputs": [
    {
     "name": "stderr",
     "output_type": "stream",
     "text": [
      "/anaconda3/lib/python3.6/site-packages/matplotlib/contour.py:967: UserWarning: The following kwargs were not used by contour: 'kind'\n",
      "  s)\n"
     ]
    },
    {
     "data": {
      "image/png": "[encoded data removed]",
      "text/plain": [
       "<matplotlib.figure.Figure at 0x1070f9240>"
      ]
     },
     "metadata": {},
     "output_type": "display_data"
    }
   ],
   "source": [
    "fig = plt.figure(figsize = (14,7))\n",
    "fig.add_subplot(1,2,1)\n",
    "plt.scatter(x = confirmed_cases_df_1['average_tem'], \n",
    "            y = confirmed_cases_df_1['RH'], \n",
    "            s = confirmed_cases_df_1['beta']*25, \n",
    "            alpha=0.6, c ='red',\n",
    "            edgecolors='black')\n",
    "plt.annotate('effective contact rate', xy=(15, 80), xytext=(25, 92),\n",
    "                   arrowprops=dict(facecolor='black', shrink=0.05))\n",
    "\n",
    "plt.xlabel('Average temperature')\n",
    "plt.ylabel('Relative Humidity')\n",
    "sns.kdeplot(confirmed_cases_df_1['average_tem'], (confirmed_cases_df_1['beta']) ,cmap=\"YlOrBr\", kind=\"kde\", shade=True, shade_lowest=False, ax =fig.add_subplot(1,2,2)) \n",
    "plt.xlabel('Average temperature')\n",
    "plt.ylabel('Effective contact rate')\n",
    "plt.suptitle('Temperature-RH-effective contact rate variation \\n across different places', y=1.05)\n",
    "plt.savefig('Figure_1.png')\n",
    "plt.show()"
   ]
  },
  {
   "cell_type": "markdown",
   "metadata": {},
   "source": [
    "We chose a non parametric regression for estimating effective contact and recovery rates. Nearest neighbour usuallybecomes a good choice in low dimension but suffers considerably from curse of dimensionality. Hence we chose Locality Sensitive Hashing Forest (LSHForest) as our model for estimation."
   ]
  },
  {
   "cell_type": "code",
   "execution_count": 21,
   "metadata": {},
   "outputs": [],
   "source": [
    "from sklearn.neighbors import LSHForest\n",
    "import numpy as np\n",
    "from scipy.stats import mode\n",
    "\n",
    "class LSH_KNN:\n",
    "\n",
    "    def __init__(self, **kwargs):\n",
    "        self.n_neighbors = kwargs['n_neighbors']\n",
    "        self.lsh = LSHForest(**kwargs)\n",
    "\n",
    "    def fit(self, X, y):\n",
    "        self.y = y\n",
    "        self.lsh.fit(X)\n",
    "\n",
    "    def predict(self, X):\n",
    "        _, indices = self.lsh.kneighbors(X, n_neighbors = self.n_neighbors)\n",
    "#         print(indices, len(indices))\n",
    "        beta_list = []\n",
    "        for i in range(len(indices)):\n",
    "            beta_neighbour = []\n",
    "            for j in indices[i]:\n",
    "                beta = self.y[j]\n",
    "                beta_neighbour.append(beta)\n",
    "                beta_m = np.mean(beta_neighbour)\n",
    "            beta_list.append(beta_m)\n",
    "        return beta_list"
   ]
  },
  {
   "cell_type": "code",
   "execution_count": 43,
   "metadata": {},
   "outputs": [],
   "source": [
    "modeling_data = pd.concat([confirmed_cases_df['average_tem'][:70], confirmed_cases_df['RH'], confirmed_cases_df['beta'], confirmed_cases_df['gamma']], axis = 1)\n",
    "modeling_data = modeling_data.dropna()\n",
    "x = modeling_data.iloc[:,:2]\n",
    "beta = modeling_data['beta'].values\n",
    "gamma = modeling_data['gamma'].values\n",
    "x_train, x_test, y_train, y_test = train_test_split(x,beta, test_size = 0.01, random_state = 42)\n",
    "sc = StandardScaler()\n",
    "x_train_sc = sc.fit_transform(x_train)\n",
    "# x_test_sc = sc.fit_transform(x_test)"
   ]
  },
  {
   "cell_type": "code",
   "execution_count": 44,
   "metadata": {},
   "outputs": [],
   "source": [
    "state_list = geo_data_test['Province/State'].values.tolist()"
   ]
  },
  {
   "cell_type": "code",
   "execution_count": 45,
   "metadata": {},
   "outputs": [],
   "source": [
    "RH = (geo_data_test['Relative Humidity Feb (in %)'] + geo_data_test['Relative Humidity Mar (in %)'])/2\n",
    "Temp = (geo_data_test['Avg Temp Feb (in _)'] + geo_data_test['Avg Temp Mar (in _)'])/2\n",
    "test_df = pd.DataFrame(list(zip(RH.values.tolist(), Temp.values.tolist())))\n",
    "test_df.index = state_list\n",
    "test_df.columns = ['RH', 'Temp']"
   ]
  },
  {
   "cell_type": "code",
   "execution_count": 46,
   "metadata": {},
   "outputs": [
    {
     "data": {
      "text/html": [
       "<div>\n",
       "<style scoped>\n",
       "    .dataframe tbody tr th:only-of-type {\n",
       "        vertical-align: middle;\n",
       "    }\n",
       "\n",
       "    .dataframe tbody tr th {\n",
       "        vertical-align: top;\n",
       "    }\n",
       "\n",
       "    .dataframe thead th {\n",
       "        text-align: right;\n",
       "    }\n",
       "</style>\n",
       "<table border=\"1\" class=\"dataframe\">\n",
       "  <thead>\n",
       "    <tr style=\"text-align: right;\">\n",
       "      <th></th>\n",
       "      <th>RH</th>\n",
       "      <th>Temp</th>\n",
       "    </tr>\n",
       "  </thead>\n",
       "  <tbody>\n",
       "    <tr>\n",
       "      <th>Maharashtra</th>\n",
       "      <td>72.0</td>\n",
       "      <td>28.5</td>\n",
       "    </tr>\n",
       "    <tr>\n",
       "      <th>West Bengal</th>\n",
       "      <td>70.5</td>\n",
       "      <td>28.5</td>\n",
       "    </tr>\n",
       "    <tr>\n",
       "      <th>Kerala</th>\n",
       "      <td>73.0</td>\n",
       "      <td>30.0</td>\n",
       "    </tr>\n",
       "    <tr>\n",
       "      <th>Rajasthan</th>\n",
       "      <td>45.5</td>\n",
       "      <td>25.0</td>\n",
       "    </tr>\n",
       "    <tr>\n",
       "      <th>Karnataka</th>\n",
       "      <td>55.0</td>\n",
       "      <td>26.5</td>\n",
       "    </tr>\n",
       "  </tbody>\n",
       "</table>\n",
       "</div>"
      ],
      "text/plain": [
       "               RH  Temp\n",
       "Maharashtra  72.0  28.5\n",
       "West Bengal  70.5  28.5\n",
       "Kerala       73.0  30.0\n",
       "Rajasthan    45.5  25.0\n",
       "Karnataka    55.0  26.5"
      ]
     },
     "execution_count": 46,
     "metadata": {},
     "output_type": "execute_result"
    }
   ],
   "source": [
    "test_df"
   ]
  },
  {
   "cell_type": "code",
   "execution_count": 47,
   "metadata": {},
   "outputs": [],
   "source": [
    "x_dat = np.append(x, test_df, axis = 0)"
   ]
  },
  {
   "cell_type": "code",
   "execution_count": 48,
   "metadata": {},
   "outputs": [
    {
     "data": {
      "text/html": [
       "<div>\n",
       "<style scoped>\n",
       "    .dataframe tbody tr th:only-of-type {\n",
       "        vertical-align: middle;\n",
       "    }\n",
       "\n",
       "    .dataframe tbody tr th {\n",
       "        vertical-align: top;\n",
       "    }\n",
       "\n",
       "    .dataframe thead th {\n",
       "        text-align: right;\n",
       "    }\n",
       "</style>\n",
       "<table border=\"1\" class=\"dataframe\">\n",
       "  <thead>\n",
       "    <tr style=\"text-align: right;\">\n",
       "      <th></th>\n",
       "      <th>RH</th>\n",
       "      <th>Temp</th>\n",
       "    </tr>\n",
       "  </thead>\n",
       "  <tbody>\n",
       "    <tr>\n",
       "      <th>Maharashtra</th>\n",
       "      <td>72.0</td>\n",
       "      <td>28.5</td>\n",
       "    </tr>\n",
       "    <tr>\n",
       "      <th>West Bengal</th>\n",
       "      <td>70.5</td>\n",
       "      <td>28.5</td>\n",
       "    </tr>\n",
       "    <tr>\n",
       "      <th>Kerala</th>\n",
       "      <td>73.0</td>\n",
       "      <td>30.0</td>\n",
       "    </tr>\n",
       "    <tr>\n",
       "      <th>Rajasthan</th>\n",
       "      <td>45.5</td>\n",
       "      <td>25.0</td>\n",
       "    </tr>\n",
       "    <tr>\n",
       "      <th>Karnataka</th>\n",
       "      <td>55.0</td>\n",
       "      <td>26.5</td>\n",
       "    </tr>\n",
       "  </tbody>\n",
       "</table>\n",
       "</div>"
      ],
      "text/plain": [
       "               RH  Temp\n",
       "Maharashtra  72.0  28.5\n",
       "West Bengal  70.5  28.5\n",
       "Kerala       73.0  30.0\n",
       "Rajasthan    45.5  25.0\n",
       "Karnataka    55.0  26.5"
      ]
     },
     "execution_count": 48,
     "metadata": {},
     "output_type": "execute_result"
    }
   ],
   "source": [
    "test_df"
   ]
  },
  {
   "cell_type": "code",
   "execution_count": 49,
   "metadata": {},
   "outputs": [],
   "source": [
    "test_df['RH_Apr-May'] = [74, 77, 75,25,53]\n",
    "test_df['Temp_Apr_May'] = [31,31,30,33,30]"
   ]
  },
  {
   "cell_type": "code",
   "execution_count": 50,
   "metadata": {},
   "outputs": [
    {
     "data": {
      "text/html": [
       "<div>\n",
       "<style scoped>\n",
       "    .dataframe tbody tr th:only-of-type {\n",
       "        vertical-align: middle;\n",
       "    }\n",
       "\n",
       "    .dataframe tbody tr th {\n",
       "        vertical-align: top;\n",
       "    }\n",
       "\n",
       "    .dataframe thead th {\n",
       "        text-align: right;\n",
       "    }\n",
       "</style>\n",
       "<table border=\"1\" class=\"dataframe\">\n",
       "  <thead>\n",
       "    <tr style=\"text-align: right;\">\n",
       "      <th></th>\n",
       "      <th>RH</th>\n",
       "      <th>Temp</th>\n",
       "      <th>RH_Apr-May</th>\n",
       "      <th>Temp_Apr_May</th>\n",
       "    </tr>\n",
       "  </thead>\n",
       "  <tbody>\n",
       "    <tr>\n",
       "      <th>Maharashtra</th>\n",
       "      <td>72.0</td>\n",
       "      <td>28.5</td>\n",
       "      <td>74</td>\n",
       "      <td>31</td>\n",
       "    </tr>\n",
       "    <tr>\n",
       "      <th>West Bengal</th>\n",
       "      <td>70.5</td>\n",
       "      <td>28.5</td>\n",
       "      <td>77</td>\n",
       "      <td>31</td>\n",
       "    </tr>\n",
       "    <tr>\n",
       "      <th>Kerala</th>\n",
       "      <td>73.0</td>\n",
       "      <td>30.0</td>\n",
       "      <td>75</td>\n",
       "      <td>30</td>\n",
       "    </tr>\n",
       "    <tr>\n",
       "      <th>Rajasthan</th>\n",
       "      <td>45.5</td>\n",
       "      <td>25.0</td>\n",
       "      <td>25</td>\n",
       "      <td>33</td>\n",
       "    </tr>\n",
       "    <tr>\n",
       "      <th>Karnataka</th>\n",
       "      <td>55.0</td>\n",
       "      <td>26.5</td>\n",
       "      <td>53</td>\n",
       "      <td>30</td>\n",
       "    </tr>\n",
       "  </tbody>\n",
       "</table>\n",
       "</div>"
      ],
      "text/plain": [
       "               RH  Temp  RH_Apr-May  Temp_Apr_May\n",
       "Maharashtra  72.0  28.5          74            31\n",
       "West Bengal  70.5  28.5          77            31\n",
       "Kerala       73.0  30.0          75            30\n",
       "Rajasthan    45.5  25.0          25            33\n",
       "Karnataka    55.0  26.5          53            30"
      ]
     },
     "execution_count": 50,
     "metadata": {},
     "output_type": "execute_result"
    }
   ],
   "source": [
    "test_df"
   ]
  },
  {
   "cell_type": "code",
   "execution_count": 51,
   "metadata": {},
   "outputs": [
    {
     "name": "stderr",
     "output_type": "stream",
     "text": [
      "/anaconda3/lib/python3.6/site-packages/sklearn/neighbors/approximate.py:220: DeprecationWarning: LSHForest has poor performance and has been deprecated in 0.19. It will be removed in version 0.21.\n",
      "  DeprecationWarning)\n",
      "/anaconda3/lib/python3.6/site-packages/sklearn/random_projection.py:378: DataDimensionalityWarning: The number of components is higher than the number of features: n_features < n_components (2 < 32).The dimensionality of the problem will not be reduced.\n",
      "  DataDimensionalityWarning)\n",
      "/anaconda3/lib/python3.6/site-packages/sklearn/neighbors/approximate.py:291: UserWarning: Number of candidates is not sufficient to retrieve 7 neighbors with min_hash_match = 4. Candidates are filled up uniformly from unselected indices.\n",
      "  \" indices.\" % (n_neighbors, self.min_hash_match))\n"
     ]
    }
   ],
   "source": [
    "x_test_1 = sc.fit_transform(test_df.iloc[:,:2])\n",
    "x_test_sc = x_test_1\n",
    "x_test_sc_1 = sc.fit_transform(test_df.iloc[:,2:])\n",
    "model = LSH_KNN(n_neighbors = 7)\n",
    "fit = model.fit(x_train_sc,beta)\n",
    "beta_pred_Feb_Mar = model.predict(x_test_sc)\n",
    "beta_pred_Apr_May = model.predict(x_test_sc_1)\n",
    "\n",
    "\n",
    "fit_1 = model.fit(x_train, gamma )\n",
    "gamma_pred_Feb_Mar = model.predict(x_test_sc)\n",
    "gamma_pred_Apr_May = model.predict(x_test_sc_1)\n",
    "\n",
    "test_df['beta_1']= beta_pred_Feb_Mar\n",
    "test_df['gamma_1'] = gamma_pred_Feb_Mar\n",
    "\n",
    "test_df['beta_2']= beta_pred_Apr_May\n",
    "test_df['gamma_2'] = gamma_pred_Apr_May\n"
   ]
  },
  {
   "cell_type": "code",
   "execution_count": 52,
   "metadata": {},
   "outputs": [
    {
     "data": {
      "text/html": [
       "<div>\n",
       "<style scoped>\n",
       "    .dataframe tbody tr th:only-of-type {\n",
       "        vertical-align: middle;\n",
       "    }\n",
       "\n",
       "    .dataframe tbody tr th {\n",
       "        vertical-align: top;\n",
       "    }\n",
       "\n",
       "    .dataframe thead th {\n",
       "        text-align: right;\n",
       "    }\n",
       "</style>\n",
       "<table border=\"1\" class=\"dataframe\">\n",
       "  <thead>\n",
       "    <tr style=\"text-align: right;\">\n",
       "      <th></th>\n",
       "      <th>RH</th>\n",
       "      <th>Temp</th>\n",
       "      <th>RH_Apr-May</th>\n",
       "      <th>Temp_Apr_May</th>\n",
       "      <th>beta_1</th>\n",
       "      <th>gamma_1</th>\n",
       "      <th>beta_2</th>\n",
       "      <th>gamma_2</th>\n",
       "    </tr>\n",
       "  </thead>\n",
       "  <tbody>\n",
       "    <tr>\n",
       "      <th>Maharashtra</th>\n",
       "      <td>72.0</td>\n",
       "      <td>28.5</td>\n",
       "      <td>74</td>\n",
       "      <td>31</td>\n",
       "      <td>1.728416</td>\n",
       "      <td>1.365812</td>\n",
       "      <td>1.364486</td>\n",
       "      <td>0.749198</td>\n",
       "    </tr>\n",
       "    <tr>\n",
       "      <th>West Bengal</th>\n",
       "      <td>70.5</td>\n",
       "      <td>28.5</td>\n",
       "      <td>77</td>\n",
       "      <td>31</td>\n",
       "      <td>2.129324</td>\n",
       "      <td>1.365812</td>\n",
       "      <td>1.364486</td>\n",
       "      <td>0.749198</td>\n",
       "    </tr>\n",
       "    <tr>\n",
       "      <th>Kerala</th>\n",
       "      <td>73.0</td>\n",
       "      <td>30.0</td>\n",
       "      <td>75</td>\n",
       "      <td>30</td>\n",
       "      <td>1.748721</td>\n",
       "      <td>1.705120</td>\n",
       "      <td>1.846954</td>\n",
       "      <td>0.749198</td>\n",
       "    </tr>\n",
       "    <tr>\n",
       "      <th>Rajasthan</th>\n",
       "      <td>45.5</td>\n",
       "      <td>25.0</td>\n",
       "      <td>25</td>\n",
       "      <td>33</td>\n",
       "      <td>1.088726</td>\n",
       "      <td>0.749198</td>\n",
       "      <td>1.374122</td>\n",
       "      <td>1.025126</td>\n",
       "    </tr>\n",
       "    <tr>\n",
       "      <th>Karnataka</th>\n",
       "      <td>55.0</td>\n",
       "      <td>26.5</td>\n",
       "      <td>53</td>\n",
       "      <td>30</td>\n",
       "      <td>1.333576</td>\n",
       "      <td>0.749198</td>\n",
       "      <td>1.272683</td>\n",
       "      <td>0.749198</td>\n",
       "    </tr>\n",
       "  </tbody>\n",
       "</table>\n",
       "</div>"
      ],
      "text/plain": [
       "               RH  Temp  RH_Apr-May  Temp_Apr_May    beta_1   gamma_1  \\\n",
       "Maharashtra  72.0  28.5          74            31  1.728416  1.365812   \n",
       "West Bengal  70.5  28.5          77            31  2.129324  1.365812   \n",
       "Kerala       73.0  30.0          75            30  1.748721  1.705120   \n",
       "Rajasthan    45.5  25.0          25            33  1.088726  0.749198   \n",
       "Karnataka    55.0  26.5          53            30  1.333576  0.749198   \n",
       "\n",
       "               beta_2   gamma_2  \n",
       "Maharashtra  1.364486  0.749198  \n",
       "West Bengal  1.364486  0.749198  \n",
       "Kerala       1.846954  0.749198  \n",
       "Rajasthan    1.374122  1.025126  \n",
       "Karnataka    1.272683  0.749198  "
      ]
     },
     "execution_count": 52,
     "metadata": {},
     "output_type": "execute_result"
    }
   ],
   "source": [
    "test_df"
   ]
  },
  {
   "cell_type": "markdown",
   "metadata": {},
   "source": [
    "Scaling beta and gamma "
   ]
  },
  {
   "cell_type": "code",
   "execution_count": 61,
   "metadata": {
    "scrolled": false
   },
   "outputs": [],
   "source": [
    "from sklearn.preprocessing import MinMaxScaler\n",
    "scaler = MinMaxScaler()\n",
    "beta_extend = np.append(beta, np.array(beta_pred_Feb_Mar))\n",
    "beta_extend_1 = np.append(beta_extend, beta_pred_Apr_May)\n",
    "beta_transform = scaler.fit_transform(beta_extend_1.reshape((-1,1)))*100\n",
    "\n",
    "gamma_extend = np.append(gamma, np.array(gamma_pred_Feb_Mar))\n",
    "gamma_extend_1 = np.append(gamma_extend, np.array(gamma_pred_Apr_May))\n",
    "gamma_transform = scaler.fit_transform(gamma_extend_1.reshape((-1,1)))*100\n"
   ]
  },
  {
   "cell_type": "code",
   "execution_count": 66,
   "metadata": {},
   "outputs": [],
   "source": [
    "beta_india = [i[0] for i in beta_transform[-10:]]\n",
    "gamma_india = [i[0] for i in gamma_transform[-10:]]\n",
    "abm_input_FM = pd.DataFrame(list(zip(beta_india[:5], gamma_india[:5])))\n",
    "abm_input_AM = pd.DataFrame(list(zip(beta_india[5:], gamma_india[5:])))\n",
    "abm_input_FM.columns = ['Infection %', 'Recovery %']\n",
    "abm_input_FM.index = state_list\n",
    "\n",
    "abm_input_AM.columns = ['Infection %', 'Recovery %']\n",
    "abm_input_AM.index = state_list\n"
   ]
  },
  {
   "cell_type": "code",
   "execution_count": 67,
   "metadata": {},
   "outputs": [
    {
     "data": {
      "text/html": [
       "<div>\n",
       "<style scoped>\n",
       "    .dataframe tbody tr th:only-of-type {\n",
       "        vertical-align: middle;\n",
       "    }\n",
       "\n",
       "    .dataframe tbody tr th {\n",
       "        vertical-align: top;\n",
       "    }\n",
       "\n",
       "    .dataframe thead th {\n",
       "        text-align: right;\n",
       "    }\n",
       "</style>\n",
       "<table border=\"1\" class=\"dataframe\">\n",
       "  <thead>\n",
       "    <tr style=\"text-align: right;\">\n",
       "      <th></th>\n",
       "      <th>Infection %</th>\n",
       "      <th>Recovery %</th>\n",
       "    </tr>\n",
       "  </thead>\n",
       "  <tbody>\n",
       "    <tr>\n",
       "      <th>Maharashtra</th>\n",
       "      <td>34.589683</td>\n",
       "      <td>32.404545</td>\n",
       "    </tr>\n",
       "    <tr>\n",
       "      <th>West Bengal</th>\n",
       "      <td>42.935099</td>\n",
       "      <td>32.404545</td>\n",
       "    </tr>\n",
       "    <tr>\n",
       "      <th>Kerala</th>\n",
       "      <td>35.012372</td>\n",
       "      <td>40.454810</td>\n",
       "    </tr>\n",
       "    <tr>\n",
       "      <th>Rajasthan</th>\n",
       "      <td>21.273756</td>\n",
       "      <td>17.775079</td>\n",
       "    </tr>\n",
       "    <tr>\n",
       "      <th>Karnataka</th>\n",
       "      <td>26.370615</td>\n",
       "      <td>17.775079</td>\n",
       "    </tr>\n",
       "  </tbody>\n",
       "</table>\n",
       "</div>"
      ],
      "text/plain": [
       "             Infection %  Recovery %\n",
       "Maharashtra    34.589683   32.404545\n",
       "West Bengal    42.935099   32.404545\n",
       "Kerala         35.012372   40.454810\n",
       "Rajasthan      21.273756   17.775079\n",
       "Karnataka      26.370615   17.775079"
      ]
     },
     "execution_count": 67,
     "metadata": {},
     "output_type": "execute_result"
    }
   ],
   "source": [
    "abm_input_FM"
   ]
  },
  {
   "cell_type": "code",
   "execution_count": 69,
   "metadata": {},
   "outputs": [
    {
     "data": {
      "text/html": [
       "<div>\n",
       "<style scoped>\n",
       "    .dataframe tbody tr th:only-of-type {\n",
       "        vertical-align: middle;\n",
       "    }\n",
       "\n",
       "    .dataframe tbody tr th {\n",
       "        vertical-align: top;\n",
       "    }\n",
       "\n",
       "    .dataframe thead th {\n",
       "        text-align: right;\n",
       "    }\n",
       "</style>\n",
       "<table border=\"1\" class=\"dataframe\">\n",
       "  <thead>\n",
       "    <tr style=\"text-align: right;\">\n",
       "      <th></th>\n",
       "      <th>Infection %</th>\n",
       "      <th>Recovery %</th>\n",
       "    </tr>\n",
       "  </thead>\n",
       "  <tbody>\n",
       "    <tr>\n",
       "      <th>Maharashtra</th>\n",
       "      <td>27.014044</td>\n",
       "      <td>17.775079</td>\n",
       "    </tr>\n",
       "    <tr>\n",
       "      <th>West Bengal</th>\n",
       "      <td>27.014044</td>\n",
       "      <td>17.775079</td>\n",
       "    </tr>\n",
       "    <tr>\n",
       "      <th>Kerala</th>\n",
       "      <td>37.057217</td>\n",
       "      <td>17.775079</td>\n",
       "    </tr>\n",
       "    <tr>\n",
       "      <th>Rajasthan</th>\n",
       "      <td>27.214620</td>\n",
       "      <td>24.321619</td>\n",
       "    </tr>\n",
       "    <tr>\n",
       "      <th>Karnataka</th>\n",
       "      <td>25.103035</td>\n",
       "      <td>17.775079</td>\n",
       "    </tr>\n",
       "  </tbody>\n",
       "</table>\n",
       "</div>"
      ],
      "text/plain": [
       "             Infection %  Recovery %\n",
       "Maharashtra    27.014044   17.775079\n",
       "West Bengal    27.014044   17.775079\n",
       "Kerala         37.057217   17.775079\n",
       "Rajasthan      27.214620   24.321619\n",
       "Karnataka      25.103035   17.775079"
      ]
     },
     "execution_count": 69,
     "metadata": {},
     "output_type": "execute_result"
    }
   ],
   "source": [
    "abm_input_AM"
   ]
  },
  {
   "cell_type": "code",
   "execution_count": 75,
   "metadata": {},
   "outputs": [
    {
     "data": {
      "text/html": [
       "<div>\n",
       "<style scoped>\n",
       "    .dataframe tbody tr th:only-of-type {\n",
       "        vertical-align: middle;\n",
       "    }\n",
       "\n",
       "    .dataframe tbody tr th {\n",
       "        vertical-align: top;\n",
       "    }\n",
       "\n",
       "    .dataframe thead th {\n",
       "        text-align: right;\n",
       "    }\n",
       "</style>\n",
       "<table border=\"1\" class=\"dataframe\">\n",
       "  <thead>\n",
       "    <tr style=\"text-align: right;\">\n",
       "      <th></th>\n",
       "      <th>Province/State</th>\n",
       "      <th>Country/Region</th>\n",
       "      <th>Lat</th>\n",
       "      <th>Long</th>\n",
       "      <th>Pop</th>\n",
       "      <th>Pop Density</th>\n",
       "      <th>Avg Temp Feb (in _)</th>\n",
       "      <th>Avg Temp Mar (in _)</th>\n",
       "      <th>Relative Humidity Feb (in %)</th>\n",
       "      <th>Relative Humidity Mar (in %)</th>\n",
       "    </tr>\n",
       "    <tr>\n",
       "      <th>Unnamed: 0</th>\n",
       "      <th></th>\n",
       "      <th></th>\n",
       "      <th></th>\n",
       "      <th></th>\n",
       "      <th></th>\n",
       "      <th></th>\n",
       "      <th></th>\n",
       "      <th></th>\n",
       "      <th></th>\n",
       "      <th></th>\n",
       "    </tr>\n",
       "  </thead>\n",
       "  <tbody>\n",
       "    <tr>\n",
       "      <th>NaN</th>\n",
       "      <td>Maharashtra</td>\n",
       "      <td>India</td>\n",
       "      <td>NaN</td>\n",
       "      <td>NaN</td>\n",
       "      <td>112374333</td>\n",
       "      <td>365.2</td>\n",
       "      <td>28</td>\n",
       "      <td>29.0</td>\n",
       "      <td>71</td>\n",
       "      <td>73</td>\n",
       "    </tr>\n",
       "    <tr>\n",
       "      <th>NaN</th>\n",
       "      <td>West Bengal</td>\n",
       "      <td>India</td>\n",
       "      <td>NaN</td>\n",
       "      <td>NaN</td>\n",
       "      <td>91276115</td>\n",
       "      <td>1028.0</td>\n",
       "      <td>26</td>\n",
       "      <td>31.0</td>\n",
       "      <td>69</td>\n",
       "      <td>72</td>\n",
       "    </tr>\n",
       "    <tr>\n",
       "      <th>NaN</th>\n",
       "      <td>Kerala</td>\n",
       "      <td>India</td>\n",
       "      <td>NaN</td>\n",
       "      <td>NaN</td>\n",
       "      <td>33406061</td>\n",
       "      <td>859.8</td>\n",
       "      <td>29</td>\n",
       "      <td>31.0</td>\n",
       "      <td>75</td>\n",
       "      <td>71</td>\n",
       "    </tr>\n",
       "    <tr>\n",
       "      <th>NaN</th>\n",
       "      <td>Rajasthan</td>\n",
       "      <td>India</td>\n",
       "      <td>NaN</td>\n",
       "      <td>NaN</td>\n",
       "      <td>68548437</td>\n",
       "      <td>200.3</td>\n",
       "      <td>23</td>\n",
       "      <td>27.0</td>\n",
       "      <td>45</td>\n",
       "      <td>46</td>\n",
       "    </tr>\n",
       "    <tr>\n",
       "      <th>NaN</th>\n",
       "      <td>Karnataka</td>\n",
       "      <td>India</td>\n",
       "      <td>NaN</td>\n",
       "      <td>NaN</td>\n",
       "      <td>61095297</td>\n",
       "      <td>318.6</td>\n",
       "      <td>25</td>\n",
       "      <td>28.0</td>\n",
       "      <td>57</td>\n",
       "      <td>53</td>\n",
       "    </tr>\n",
       "  </tbody>\n",
       "</table>\n",
       "</div>"
      ],
      "text/plain": [
       "           Province/State Country/Region  Lat  Long        Pop  Pop Density  \\\n",
       "Unnamed: 0                                                                    \n",
       "NaN           Maharashtra          India  NaN   NaN  112374333        365.2   \n",
       "NaN           West Bengal          India  NaN   NaN   91276115       1028.0   \n",
       "NaN                Kerala          India  NaN   NaN   33406061        859.8   \n",
       "NaN             Rajasthan          India  NaN   NaN   68548437        200.3   \n",
       "NaN             Karnataka          India  NaN   NaN   61095297        318.6   \n",
       "\n",
       "            Avg Temp Feb (in _)  Avg Temp Mar (in _)  \\\n",
       "Unnamed: 0                                             \n",
       "NaN                          28                 29.0   \n",
       "NaN                          26                 31.0   \n",
       "NaN                          29                 31.0   \n",
       "NaN                          23                 27.0   \n",
       "NaN                          25                 28.0   \n",
       "\n",
       "            Relative Humidity Feb (in %)  Relative Humidity Mar (in %)  \n",
       "Unnamed: 0                                                              \n",
       "NaN                                   71                            73  \n",
       "NaN                                   69                            72  \n",
       "NaN                                   75                            71  \n",
       "NaN                                   45                            46  \n",
       "NaN                                   57                            53  "
      ]
     },
     "execution_count": 75,
     "metadata": {},
     "output_type": "execute_result"
    }
   ],
   "source": [
    "geo_data_test"
   ]
  },
  {
   "cell_type": "code",
   "execution_count": 175,
   "metadata": {},
   "outputs": [],
   "source": [
    "date_rng = pd.date_range(start='3/14/2020', end='5/14/2020', freq='D')\n",
    "df_1 = pd.read_csv('wb_lockdown.csv',error_bad_lines=False)\n",
    "df_2 = pd.read_csv('wb_no_lockdown.csv',error_bad_lines=False)\n",
    "df_1.index = date_rng\n",
    "df_2.index = date_rng\n",
    "\n",
    "\n",
    "date_rng_1 = pd.date_range(start='3/01/2020', end='5/01/2020', freq='D')\n",
    "df_3 = pd.read_csv('kerala_lockdown.csv',error_bad_lines=False)\n",
    "df_4 = pd.read_csv('kerala_no_lockdown.csv',error_bad_lines=False)\n",
    "df_3[:len(date_rng_1)].index = date_rng_1\n",
    "df_4[:len(date_rng_1)].index = date_rng_1\n",
    "\n",
    "df_5 = pd.read_csv('karnataka_lockdown.csv',error_bad_lines=False)\n",
    "df_6 = pd.read_csv('karnataka_no_lockdown.csv',error_bad_lines=False)\n",
    "df_6 = df_6[:len(date_rng_1)]\n",
    "df_5.index = date_rng_1\n",
    "df_6.index = date_rng_1\n",
    "\n",
    "df_7 = pd.read_csv('rajasthan_lockdown.csv',error_bad_lines=False)\n",
    "df_8 = pd.read_csv('rajasthan_no_lockdown.csv',error_bad_lines=False)\n",
    "df_7 = df_7[:len(date_rng_1)]\n",
    "df_8 = df_8[:len(date_rng_1)]\n",
    "df_7.index = date_rng_1\n",
    "df_8.index = date_rng_1\n",
    "\n",
    "date_rng_3 = pd.date_range(start='3/09/2020', end='5/09/2020', freq='D')\n",
    "\n",
    "df_9 = pd.read_csv('maharashtra_lockdown.csv',error_bad_lines=False)\n",
    "df_10 = pd.read_csv('maharashtra_no_lockdown.csv',error_bad_lines=False)\n",
    "df_9 = df_9[:len(date_rng_3)]\n",
    "df_10 = df_10[:len(date_rng_3)]\n",
    "df_9.index = date_rng_3\n",
    "df_10.index = date_rng_3"
   ]
  },
  {
   "cell_type": "code",
   "execution_count": 236,
   "metadata": {
    "scrolled": false
   },
   "outputs": [
    {
     "data": {
      "image/png": "[encoded data removed]",
      "text/plain": [
       "<matplotlib.figure.Figure at 0x12ac2bac8>"
      ]
     },
     "metadata": {},
     "output_type": "display_data"
    }
   ],
   "source": [
    "plt.figure(figsize = (18,18))\n",
    "plt.subplot(2,2,1)\n",
    "plt.plot(df_1['y'][4:]*100/1028, label = 'no lockdown')\n",
    "plt.plot(df_2['y'][4:]*100/1028, label = 'lockdown')\n",
    "plt.xticks(rotation=45, ha=\"right\")\n",
    "plt.ylabel('%population')\n",
    "plt.axvline(dt.datetime(2020, 3, 24), c ='black')\n",
    "x = dt.datetime(2020, 3, 24)\n",
    "x1 = dt.datetime(2020, 5, 16)\n",
    "plt.axvspan(x, x1, alpha=0.3, color='grey')\n",
    "plt.legend()\n",
    "plt.title( 'West Bengal')\n",
    "\n",
    "plt.subplot(2,2,2)\n",
    "plt.plot(df_5['y']*100/319, label = 'lockdown')\n",
    "plt.plot(df_6['y']*100/319, label = 'no lockdown')\n",
    "plt.xticks(rotation=45, ha=\"right\")\n",
    "plt.ylabel('%population')\n",
    "plt.axvline(dt.datetime(2020, 3, 24), c ='black')\n",
    "x = dt.datetime(2020, 3, 24)\n",
    "x1 = dt.datetime(2020, 5, 2)\n",
    "plt.axvspan(x, x1, alpha=0.3, color='grey')\n",
    "plt.legend()\n",
    "plt.title( 'Karnataka')\n",
    "\n",
    "\n",
    "\n",
    "plt.subplot(2,2,3)\n",
    "plt.plot(df_7['y']*100/319, label = 'lockdown')\n",
    "plt.plot(df_8['y']*100/319, label = 'no lockdown')\n",
    "plt.xticks(rotation=45, ha=\"right\")\n",
    "plt.ylabel('%population')\n",
    "plt.axvline(dt.datetime(2020, 3, 24), c ='black')\n",
    "x = dt.datetime(2020, 3, 24)\n",
    "x1 = dt.datetime(2020, 5, 2)\n",
    "plt.axvspan(x, x1, alpha=0.3, color='grey')\n",
    "plt.legend()\n",
    "plt.title( 'Rajasthan')\n",
    "\n",
    "\n",
    "\n",
    "plt.subplot(2,2,4)\n",
    "plt.plot(df_9['y']*100/319, label = 'lockdown')\n",
    "plt.plot(df_10['y']*100/319, label = 'no lockdown')\n",
    "plt.xticks(rotation=45, ha=\"right\")\n",
    "plt.ylabel('%population')\n",
    "plt.axvline(dt.datetime(2020, 3, 24), c ='black')\n",
    "x = dt.datetime(2020, 3, 24)\n",
    "x1 = dt.datetime(2020, 5,11)\n",
    "plt.axvspan(x, x1, alpha=0.3, color='grey')\n",
    "plt.legend()\n",
    "plt.title( 'Maharashtra')\n",
    "\n",
    "plt.suptitle('Infected population percentage per sq.Km')\n",
    "plt.savefig('Figure_2.png')\n",
    "plt.show()\n",
    "\n",
    "\n",
    "\n",
    "# plt.annotate('effective contact rate', xy=(11, 12), xytext=(11, 12),\n",
    "#                    arrowprops=dict(facecolor='black', shrink=0.05))"
   ]
  },
  {
   "cell_type": "code",
   "execution_count": 233,
   "metadata": {},
   "outputs": [],
   "source": [
    "infected_population_lockdown_wb = df_1['y'][4]\n",
    "infected_population_lockdown_karnataka = df_5['y'][24]\n",
    "infected_population_lockdown_rajasthan = df_9['y'][24]\n",
    "infected_population_lockdown_maharastra = df_9['y'][15]"
   ]
  },
  {
   "cell_type": "code",
   "execution_count": 237,
   "metadata": {},
   "outputs": [
    {
     "name": "stdout",
     "output_type": "stream",
     "text": [
      "infected population  percentage per sq.km till lockdown West Bengal : 4\n",
      "infected population  percentage per sq.km till lockdown Karnataka : 8\n",
      "infected population  percentage per sq.km till lockdown Rajasthan : 7\n",
      "infected population  percentage per sq.km till lockdown Maharashtra : 4\n"
     ]
    }
   ],
   "source": [
    "print('infected population  percentage per sq.km till lockdown West Bengal :', infected_population_lockdown_wb)\n",
    "print('infected population  percentage per sq.km till lockdown Karnataka :', infected_population_lockdown_karnataka)\n",
    "\n",
    "print('infected population  percentage per sq.km till lockdown Rajasthan :', infected_population_lockdown_rajasthan)\n",
    "\n",
    "print('infected population  percentage per sq.km till lockdown Maharashtra :', infected_population_lockdown_maharastra)\n",
    "\n"
   ]
  },
  {
   "cell_type": "code",
   "execution_count": null,
   "metadata": {},
   "outputs": [],
   "source": []
  }
 ],
 "metadata": {
  "kernelspec": {
   "display_name": "Python [default]",
   "language": "python",
   "name": "python3"
  },
  "language_info": {
   "codemirror_mode": {
    "name": "ipython",
    "version": 3
   },
   "file_extension": ".py",
   "mimetype": "text/x-python",
   "name": "python",
   "nbconvert_exporter": "python",
   "pygments_lexer": "ipython3",
   "version": "3.6.7"
  }
 },
 "nbformat": 4,
 "nbformat_minor": 2
}
